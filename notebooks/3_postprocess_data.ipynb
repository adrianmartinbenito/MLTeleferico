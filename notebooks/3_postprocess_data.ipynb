{
 "cells": [
  {
   "cell_type": "markdown",
   "metadata": {},
   "source": [
    "## "
   ]
  },
  {
   "cell_type": "markdown",
   "metadata": {},
   "source": [
    "# Postprocess data"
   ]
  },
  {
   "cell_type": "markdown",
   "metadata": {},
   "source": [
    "Este módulo tiene como objetivo recoger los datos de entrada y realizar un preprocesamiento de esos\n",
    "datos para poder analizarlos de la manera más óptima y sencilla posible."
   ]
  },
  {
   "cell_type": "markdown",
   "metadata": {},
   "source": [
    "## Importar librerías"
   ]
  },
  {
   "cell_type": "code",
   "execution_count": 9,
   "metadata": {},
   "outputs": [],
   "source": [
    "from pathlib import Path\n",
    "from pandas import DataFrame, Series, ExcelWriter\n",
    "import pandas as pd"
   ]
  },
  {
   "cell_type": "markdown",
   "metadata": {},
   "source": [
    "## Definicion de variables"
   ]
  },
  {
   "cell_type": "code",
   "execution_count": 10,
   "metadata": {},
   "outputs": [],
   "source": [
    "input_file = Path(\"../resources/3_treated_outlier/dataset_completo.xlsx\")\n",
    "output_file = Path(\"../resources/4_ready/dataset_completo.xlsx\")"
   ]
  },
  {
   "cell_type": "markdown",
   "metadata": {},
   "source": [
    "## Definición de funciones"
   ]
  },
  {
   "cell_type": "code",
   "execution_count": 11,
   "metadata": {},
   "outputs": [],
   "source": [
    "def data_reorganization(input_file: Path, output_file: Path):\n",
    "    \"\"\" \n",
    "    Esta función permite generar un nuevo dataset mostrando la relación con los días más próximos,\n",
    "    por cada día, se miran los cuatro días anteriores obteniendo su cantidad de usuarios, festividad y dia de la semana,\n",
    "    mientras que también se muestra el día de mañana pero sin coger la cantidad de usuarios.\n",
    "    \n",
    "    \"\"\"\n",
    "    \n",
    "    reader: DataFrame = pd.read_excel(input_file)\n",
    "\n",
    "    festive: Series = reader[\"Festivo\"]\n",
    "    day_of_the_week: Series = reader[\"DiaSemana\"]\n",
    "    temperature: Series = reader[\"Temperatura\"]\n",
    "    precipitation: Series = reader[\"Precipitacion\"]\n",
    "    number_users: Series = reader[\"CantidadUsuarios\"]\n",
    "\n",
    "    writer = ExcelWriter(output_file, engine='xlsxwriter')\n",
    "\n",
    "    final_dataset = DataFrame({\n",
    "        'Festivo Hoy': festive.values.tolist(),\n",
    "        'DiaSemana Hoy': day_of_the_week.values.tolist(),\n",
    "        'Temperatura Hoy': temperature.values.tolist(),\n",
    "        'Precipitacion Hoy': precipitation.values.tolist(),\n",
    "        'Festivo Mannana': festive.shift(-1).values.tolist(),\n",
    "        'DiaSemana Mannana': day_of_the_week.shift(-1).values.tolist(),\n",
    "        'CantidadUsuarios Hoy-1': number_users.shift(1).values.tolist(),\n",
    "        'Festivo Hoy-1': festive.shift(1).values.tolist(),\n",
    "        'DiaSemana Hoy-1': day_of_the_week.shift(1).values.tolist(),\n",
    "        'CantidadUsuarios Hoy-2': number_users.shift(2).values.tolist(),\n",
    "        'Festivo Hoy-2': festive.shift(2).values.tolist(),\n",
    "        'DiaSemana Hoy-2': day_of_the_week.shift(2).values.tolist(),\n",
    "        'CantidadUsuarios Hoy-3': number_users.shift(3).values.tolist(),\n",
    "        'Festivo Hoy-3': festive.shift(3).values.tolist(),\n",
    "        'DiaSemana Hoy-3': day_of_the_week.shift(3).values.tolist(),\n",
    "        'CantidadUsuarios Hoy-4': number_users.shift(4).values.tolist(),\n",
    "        'Festivo Hoy-4': festive.shift(4).values.tolist(),\n",
    "        'DiaSemana Hoy-4': day_of_the_week.shift(4).values.tolist(),\n",
    "        'CantidadUsuarios Hoy': number_users.values.tolist(),\n",
    "    })\n",
    "    \n",
    "    # Se eliminan las filas que contienen valores nulos (Los cuatro primeros días y el último día)\n",
    "    final_dataset = final_dataset.iloc[4:-1].astype(float)\n",
    "    \n",
    "    final_dataset.to_excel(writer, sheet_name='teleferico', index=False)\n",
    "    writer.close()\n"
   ]
  },
  {
   "cell_type": "markdown",
   "metadata": {},
   "source": [
    "## Tratamiento de datos"
   ]
  },
  {
   "cell_type": "code",
   "execution_count": 12,
   "metadata": {},
   "outputs": [],
   "source": [
    "data_reorganization(input_file,output_file)"
   ]
  }
 ],
 "metadata": {
  "kernelspec": {
   "display_name": "Python 3",
   "language": "python",
   "name": "python3"
  },
  "language_info": {
   "codemirror_mode": {
    "name": "ipython",
    "version": 3
   },
   "file_extension": ".py",
   "mimetype": "text/x-python",
   "name": "python",
   "nbconvert_exporter": "python",
   "pygments_lexer": "ipython3",
   "version": "3.11.5"
  },
  "orig_nbformat": 4
 },
 "nbformat": 4,
 "nbformat_minor": 2
}
