{
 "cells": [
  {
   "cell_type": "markdown",
   "metadata": {},
   "source": [
    "## "
   ]
  },
  {
   "cell_type": "markdown",
   "metadata": {},
   "source": [
    "# Sacar métricas descriptivas del dataset"
   ]
  },
  {
   "cell_type": "markdown",
   "metadata": {},
   "source": [
    "Este módulo tiene como objetivo analizar los datos de una manera más profunda gracias a las métricas descriptivas."
   ]
  },
  {
   "cell_type": "markdown",
   "metadata": {},
   "source": [
    "## Importar librerías"
   ]
  },
  {
   "cell_type": "code",
   "execution_count": 1,
   "metadata": {},
   "outputs": [],
   "source": [
    "from pathlib import Path\n",
    "from pandas import DataFrame, Series, ExcelWriter\n",
    "import pandas as pd"
   ]
  },
  {
   "cell_type": "markdown",
   "metadata": {},
   "source": [
    "## Definicion de variables"
   ]
  },
  {
   "cell_type": "code",
   "execution_count": 2,
   "metadata": {},
   "outputs": [],
   "source": [
    "df = pd.read_excel(\"../resources/4_ready/dataset_completo.xlsx\")"
   ]
  },
  {
   "cell_type": "markdown",
   "metadata": {},
   "source": [
    "## Extracción de datos"
   ]
  },
  {
   "cell_type": "code",
   "execution_count": 3,
   "metadata": {},
   "outputs": [],
   "source": [
    "descriptive_stats = df.describe().transpose()\n",
    "descriptive_stats['kurtosis'] = df.kurtosis()\n",
    "descriptive_stats['skew'] = df.skew()\n",
    "descriptive_stats['type'] = df.dtypes"
   ]
  },
  {
   "cell_type": "markdown",
   "metadata": {},
   "source": [
    "## Mostrar resultados"
   ]
  },
  {
   "cell_type": "code",
   "execution_count": 4,
   "metadata": {},
   "outputs": [
    {
     "name": "stdout",
     "output_type": "stream",
     "text": [
      "                        count         mean         std       min        25%  \\\n",
      "Festivo Hoy             435.0     3.832184    3.161093    0.0000    0.00000   \n",
      "DiaSemana Hoy           435.0     4.252874    2.033240    1.0000    2.00000   \n",
      "Temperatura Hoy         435.0   297.502070    7.612732  277.4013  291.94875   \n",
      "Precipitacion Hoy       435.0    33.284291  170.592544    0.0000    0.00000   \n",
      "Festivo Mannana         435.0     3.822989    3.166417    0.0000    0.00000   \n",
      "DiaSemana Mannana       435.0     4.257471    2.034927    1.0000    2.00000   \n",
      "CantidadUsuarios Hoy-1  435.0  1322.917241  726.829456   75.0000  801.50000   \n",
      "Festivo Hoy-1           435.0     3.841379    3.155733    0.0000    0.00000   \n",
      "DiaSemana Hoy-1         435.0     4.243678    2.029829    1.0000    2.00000   \n",
      "CantidadUsuarios Hoy-2  435.0  1325.703448  726.828263   75.0000  808.00000   \n",
      "Festivo Hoy-2           435.0     3.850575    3.150337    0.0000    0.00000   \n",
      "DiaSemana Hoy-2         435.0     4.234483    2.030915    1.0000    2.00000   \n",
      "CantidadUsuarios Hoy-3  435.0  1327.501149  726.643297   75.0000  808.00000   \n",
      "Festivo Hoy-3           435.0     3.859770    3.144905    0.0000    0.00000   \n",
      "DiaSemana Hoy-3         435.0     4.220690    2.032463    1.0000    2.00000   \n",
      "CantidadUsuarios Hoy-4  435.0  1326.243678  726.000156   75.0000  808.00000   \n",
      "Festivo Hoy-4           435.0     3.859770    3.144905    0.0000    0.00000   \n",
      "DiaSemana Hoy-4         435.0     4.222989    2.035044    1.0000    2.00000   \n",
      "CantidadUsuarios Hoy    435.0  1321.317241  725.772073   75.0000  801.50000   \n",
      "\n",
      "                              50%          75%        max    kurtosis  \\\n",
      "Festivo Hoy                4.0000     7.000000     7.0000   -1.769835   \n",
      "DiaSemana Hoy              4.0000     6.000000     7.0000   -1.269272   \n",
      "Temperatura Hoy          298.9921   304.014050   312.3455   -0.836288   \n",
      "Precipitacion Hoy          0.0000     0.476837  2499.5630  115.334774   \n",
      "Festivo Mannana            4.0000     7.000000     7.0000   -1.775392   \n",
      "DiaSemana Mannana          4.0000     6.000000     7.0000   -1.272139   \n",
      "CantidadUsuarios Hoy-1  1052.0000  1827.000000  4902.0000    1.342573   \n",
      "Festivo Hoy-1              4.0000     7.000000     7.0000   -1.764182   \n",
      "DiaSemana Hoy-1            4.0000     6.000000     7.0000   -1.268291   \n",
      "CantidadUsuarios Hoy-2  1059.0000  1834.500000  4902.0000    1.325565   \n",
      "Festivo Hoy-2              4.0000     7.000000     7.0000   -1.758434   \n",
      "DiaSemana Hoy-2            4.0000     6.000000     7.0000   -1.273010   \n",
      "CantidadUsuarios Hoy-3  1065.0000  1834.500000  4902.0000    1.318759   \n",
      "Festivo Hoy-3              4.0000     7.000000     7.0000   -1.752588   \n",
      "DiaSemana Hoy-3            4.0000     6.000000     7.0000   -1.276013   \n",
      "CantidadUsuarios Hoy-4  1065.0000  1827.000000  4902.0000    1.340367   \n",
      "Festivo Hoy-4              4.0000     7.000000     7.0000   -1.752588   \n",
      "DiaSemana Hoy-4            4.0000     6.000000     7.0000   -1.277371   \n",
      "CantidadUsuarios Hoy    1052.0000  1821.500000  4902.0000    1.374015   \n",
      "\n",
      "                            skew     type  \n",
      "Festivo Hoy            -0.186842    int64  \n",
      "DiaSemana Hoy          -0.181244    int64  \n",
      "Temperatura Hoy        -0.418273  float64  \n",
      "Precipitacion Hoy       9.589042  float64  \n",
      "Festivo Mannana        -0.181252    int64  \n",
      "DiaSemana Mannana      -0.186133    int64  \n",
      "CantidadUsuarios Hoy-1  1.105007    int64  \n",
      "Festivo Hoy-1          -0.192432    int64  \n",
      "DiaSemana Hoy-1        -0.174788    int64  \n",
      "CantidadUsuarios Hoy-2  1.096142    int64  \n",
      "Festivo Hoy-2          -0.198023    int64  \n",
      "DiaSemana Hoy-2        -0.165480    int64  \n",
      "CantidadUsuarios Hoy-3  1.090322    int64  \n",
      "Festivo Hoy-3          -0.203614    int64  \n",
      "DiaSemana Hoy-3        -0.159810    int64  \n",
      "CantidadUsuarios Hoy-4  1.096835    int64  \n",
      "Festivo Hoy-4          -0.203614    int64  \n",
      "DiaSemana Hoy-4        -0.158258    int64  \n",
      "CantidadUsuarios Hoy    1.113088    int64  \n"
     ]
    }
   ],
   "source": [
    "print(descriptive_stats)"
   ]
  }
 ],
 "metadata": {
  "kernelspec": {
   "display_name": "Python 3",
   "language": "python",
   "name": "python3"
  },
  "language_info": {
   "codemirror_mode": {
    "name": "ipython",
    "version": 3
   },
   "file_extension": ".py",
   "mimetype": "text/x-python",
   "name": "python",
   "nbconvert_exporter": "python",
   "pygments_lexer": "ipython3",
   "version": "3.9.7"
  },
  "orig_nbformat": 4
 },
 "nbformat": 4,
 "nbformat_minor": 2
}
